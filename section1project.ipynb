{
  "nbformat": 4,
  "nbformat_minor": 0,
  "metadata": {
    "colab": {
      "name": "section1project.ipynb",
      "provenance": [],
      "collapsed_sections": [],
      "authorship_tag": "ABX9TyOFrlPOo6g4iHvB8Ah7OrP2",
      "include_colab_link": true
    },
    "kernelspec": {
      "name": "python3",
      "display_name": "Python 3"
    }
  },
  "cells": [
    {
      "cell_type": "markdown",
      "metadata": {
        "id": "view-in-github",
        "colab_type": "text"
      },
      "source": [
        "<a href=\"https://colab.research.google.com/github/oh-sumin/github_test/blob/main/section1project.ipynb\" target=\"_parent\"><img src=\"https://colab.research.google.com/assets/colab-badge.svg\" alt=\"Open In Colab\"/></a>"
      ]
    },
    {
      "cell_type": "markdown",
      "metadata": {
        "id": "zCY9oReRxSgd"
      },
      "source": [
        ""
      ]
    },
    {
      "cell_type": "markdown",
      "metadata": {
        "id": "5kPemSmTwmWc"
      },
      "source": [
        "#### ."
      ]
    },
    {
      "cell_type": "code",
      "metadata": {
        "colab": {
          "base_uri": "https://localhost:8080/"
        },
        "id": "rWkZQFBlcKvD",
        "outputId": "d8c59b2a-ce9e-4b59-9170-f64b69ae6601"
      },
      "source": [
        "import pandas as pd\n",
        "import numpy as np\n",
        "from google.colab import drive\n",
        "\n",
        "#warning 끄기\n",
        "pd.set_option('mode.chained_assignment', 'raise')\n",
        "pd.set_option('mode.chained_assignment', 'warn')\n",
        "pd.set_option('mode.chained_assignment',  None)\n",
        "\n",
        "drive.mount('/content/drive')\n",
        "df = pd.read_csv('/content/drive/My Drive/vgames2.csv',index_col=0)#unnamed 제거\n",
        "print(df.shape)\n",
        "print(df.head(3))"
      ],
      "execution_count": 358,
      "outputs": [
        {
          "output_type": "stream",
          "text": [
            "Drive already mounted at /content/drive; to attempt to forcibly remount, call drive.mount(\"/content/drive\", force_remount=True).\n",
            "(16598, 9)\n",
            "                                             Name Platform  ...  JP_Sales Other_Sales\n",
            "1                    Candace Kane's Candy Factory       DS  ...         0           0\n",
            "2                                  The Munchables      Wii  ...         0        0.01\n",
            "3  Otome wa Oanesama Boku ni Koi Shiteru Portable      PSP  ...      0.02           0\n",
            "\n",
            "[3 rows x 9 columns]\n"
          ],
          "name": "stdout"
        }
      ]
    },
    {
      "cell_type": "markdown",
      "metadata": {
        "id": "CtfQgp5J73Jc"
      },
      "source": [
        ""
      ]
    },
    {
      "cell_type": "markdown",
      "metadata": {
        "id": "Jbq85MTK75sl"
      },
      "source": [
        "#### ."
      ]
    },
    {
      "cell_type": "markdown",
      "metadata": {
        "id": "3nQ7BL3QsD9E"
      },
      "source": [
        "## ❗️결측치 확인 및 제거"
      ]
    },
    {
      "cell_type": "code",
      "metadata": {
        "colab": {
          "base_uri": "https://localhost:8080/"
        },
        "id": "KUV6G8mnjbvx",
        "outputId": "a8c8f454-bde4-434f-9074-562467151607"
      },
      "source": [
        "print('전체 데이터의 행과 열의 갯수','\\n',df.shape)\n",
        "print('\\n')\n",
        "print('결측치의 갯수')\n",
        "print(df.isna().sum())\n",
        "df = df.dropna()\n",
        "print('\\n')\n",
        "print('결측치 제거 후 행과 열의 갯수','\\n',df.shape)"
      ],
      "execution_count": 359,
      "outputs": [
        {
          "output_type": "stream",
          "text": [
            "전체 데이터의 행과 열의 갯수 \n",
            " (16598, 9)\n",
            "\n",
            "\n",
            "결측치의 갯수\n",
            "Name             0\n",
            "Platform         0\n",
            "Year           271\n",
            "Genre           50\n",
            "Publisher       58\n",
            "NA_Sales         0\n",
            "EU_Sales         0\n",
            "JP_Sales         0\n",
            "Other_Sales      0\n",
            "dtype: int64\n",
            "\n",
            "\n",
            "결측치 제거 후 행과 열의 갯수 \n",
            " (16241, 9)\n"
          ],
          "name": "stdout"
        }
      ]
    },
    {
      "cell_type": "markdown",
      "metadata": {
        "id": "dEuHGkdHpRUQ"
      },
      "source": [
        "결측치를 가지고 있는 데이터가 전체 데이터에 크게 영향을 끼치지 않을 정도라고 판단하여 해당 데이터를 제거하였습니다."
      ]
    },
    {
      "cell_type": "markdown",
      "metadata": {
        "id": "vW3oCOvzsiT7"
      },
      "source": [
        "#### ."
      ]
    },
    {
      "cell_type": "code",
      "metadata": {
        "colab": {
          "base_uri": "https://localhost:8080/"
        },
        "id": "nT5dfDd_L4Bh",
        "outputId": "89db0fb0-e60c-4a77-d627-09451e1dd963"
      },
      "source": [
        "#platfrom 과 Year column에 이상값이 있는지 확인\n",
        "print('platform 이상값 확인')\n",
        "print(df['Platform'].value_counts().head(3))\n",
        "print('\\n')\n",
        "print('Year 이상값 확인')\n",
        "print(df['Year'].value_counts().head(3))"
      ],
      "execution_count": 360,
      "outputs": [
        {
          "output_type": "stream",
          "text": [
            "platform 이상값 확인\n",
            "DS     2127\n",
            "PS2    2121\n",
            "PS3    1299\n",
            "Name: Platform, dtype: int64\n",
            "\n",
            "\n",
            "Year 이상값 확인\n",
            "2009.0    1418\n",
            "2008.0    1413\n",
            "2010.0    1246\n",
            "Name: Year, dtype: int64\n"
          ],
          "name": "stdout"
        }
      ]
    },
    {
      "cell_type": "code",
      "metadata": {
        "id": "varkuDmA5JNq"
      },
      "source": [
        "#platform에서 2600을 VCS로 변경하기\n",
        "df = df.replace('2600','VCS')\n",
        "#위에서 확인한 year의 이상값들 변경하기\n",
        "df = df.replace(12,2012)\n",
        "df = df.replace(97,1997)\n",
        "df = df.replace(94,1994)\n",
        "df = df.replace(86,1986)\n",
        "df = df.replace(9,2009)\n",
        "df = df.replace(11,2011)\n",
        "df = df.replace(8,2008)\n",
        "df = df.replace(3,2003)\n",
        "df = df.replace(6,2006)\n",
        "df = df.replace(10,2010)\n",
        "df = df.replace(15,2015)\n",
        "df = df.replace(16,2016)\n",
        "df = df.replace(4,2004)\n",
        "df = df.replace(95,1995)\n",
        "df = df.replace(5,2005)\n",
        "df = df.replace(96,1996)\n",
        "df = df.replace(98,1998)\n",
        "df = df.replace(2,2002)\n",
        "df = df.replace(0,2000)\n",
        "df = df.replace(1,2001)\n",
        "df = df.replace(14,2014)\n",
        "df = df.replace(13,2013)\n",
        "df = df.replace(7,2007)"
      ],
      "execution_count": 361,
      "outputs": []
    },
    {
      "cell_type": "code",
      "metadata": {
        "id": "4is2RuqV2N4H"
      },
      "source": [
        "#매출액에서 K 는 *0.001 로 M 은 없애주기\n",
        "def function(x):\n",
        "  if 'K' in x :\n",
        "    x = x.replace('K','')\n",
        "    return float(x)*0.001\n",
        "  elif 'M' in x :\n",
        "    x = x.replace('M','')\n",
        "    return float(x)\n",
        "  else:\n",
        "    return float(x)\n",
        "\n",
        "df['NA_Sales'] = df['NA_Sales'].apply(function)\n",
        "df['EU_Sales'] = df['EU_Sales'].apply(function)\n",
        "df['JP_Sales'] = df['JP_Sales'].apply(function)\n",
        "df['Other_Sales'] = df['Other_Sales'].apply(function)"
      ],
      "execution_count": 362,
      "outputs": []
    },
    {
      "cell_type": "markdown",
      "metadata": {
        "id": "DtRqiNfUswnN"
      },
      "source": [
        ""
      ]
    },
    {
      "cell_type": "markdown",
      "metadata": {
        "id": "CUa0EXCWZHXx"
      },
      "source": [
        "#📌지역에 따라서 선호하는 게임 장르가 다를까"
      ]
    },
    {
      "cell_type": "markdown",
      "metadata": {
        "id": "TIFxxQMft21Y"
      },
      "source": [
        "#### ✔️지역별 전체 게임에 대한 장르 선호도"
      ]
    },
    {
      "cell_type": "code",
      "metadata": {
        "colab": {
          "base_uri": "https://localhost:8080/",
          "height": 348
        },
        "id": "4kaSiA6otXK7",
        "outputId": "fd26d5ac-6b75-446c-e990-3a9c86bc351b"
      },
      "source": [
        "dfg = df[['Genre','NA_Sales','EU_Sales','JP_Sales','Other_Sales']]\n",
        "dfg = dfg.groupby('Genre').sum() \n",
        "dfg.plot(kind='bar')"
      ],
      "execution_count": 363,
      "outputs": [
        {
          "output_type": "execute_result",
          "data": {
            "text/plain": [
              "<matplotlib.axes._subplots.AxesSubplot at 0x7fec95329be0>"
            ]
          },
          "metadata": {
            "tags": []
          },
          "execution_count": 363
        },
        {
          "output_type": "display_data",
          "data": {
            "image/png": "[encoded data removed]",
            "text/plain": [
              "<Figure size 432x288 with 1 Axes>"
            ]
          },
          "metadata": {
            "tags": [],
            "needs_background": "light"
          }
        }
      ]
    },
    {
      "cell_type": "markdown",
      "metadata": {
        "id": "SqCTMRpPuWz5"
      },
      "source": [
        "#### ."
      ]
    },
    {
      "cell_type": "code",
      "metadata": {
        "id": "OsJQYzKnsq0R"
      },
      "source": [
        "df1 = df[['Genre','Year','NA_Sales','EU_Sales','JP_Sales','Other_Sales']]\n",
        "#지역별 매출순위 top20\n",
        "df1_1 = df1[['Genre','Year','NA_Sales']]\n",
        "df1_1.set_index('Genre')\n",
        "df1_1 =df1_1.sort_values(by='NA_Sales',ascending=False)\n",
        "df1_1h = df1_1.head(20)\n",
        "\n",
        "df1_2 = df1[['Genre','Year','EU_Sales']]\n",
        "df1_2.set_index('Genre')\n",
        "df1_2 =df1_2.sort_values(by='EU_Sales',ascending=False)\n",
        "df1_2h=df1_2.head(20)\n",
        "\n",
        "df1_3 = df1[['Genre','Year','JP_Sales']]\n",
        "df1_3.set_index('Genre')\n",
        "df1_3 =df1_3.sort_values(by='JP_Sales',ascending=False)\n",
        "df1_3h = df1_3.head(20)"
      ],
      "execution_count": 364,
      "outputs": []
    },
    {
      "cell_type": "code",
      "metadata": {
        "colab": {
          "base_uri": "https://localhost:8080/"
        },
        "id": "pAInUH0H297_",
        "outputId": "5863559a-a03e-4a9f-b216-7a011cd2c5d5"
      },
      "source": [
        "#장르별로 top20 위에 몇개 올랐는지\n",
        "df1_1g = df1_1h.groupby('Genre').size()\n",
        "df1_2g = df1_2h.groupby('Genre').size()\n",
        "df1_3g = df1_3h.groupby('Genre').size()\n",
        "\n",
        "print('북미','\\n',df1_1g)\n",
        "print('\\n')\n",
        "print('유럽','\\n',df1_2g)\n",
        "print('\\n')\n",
        "print('일본','\\n',df1_3g)"
      ],
      "execution_count": 365,
      "outputs": [
        {
          "output_type": "stream",
          "text": [
            "북미 \n",
            " Genre\n",
            "Action          2\n",
            "Misc            2\n",
            "Platform        6\n",
            "Puzzle          1\n",
            "Racing          2\n",
            "Role-Playing    1\n",
            "Shooter         2\n",
            "Simulation      1\n",
            "Sports          3\n",
            "dtype: int64\n",
            "\n",
            "\n",
            "유럽 \n",
            " Genre\n",
            "Action          2\n",
            "Misc            2\n",
            "Platform        2\n",
            "Racing          2\n",
            "Role-Playing    3\n",
            "Shooter         2\n",
            "Simulation      2\n",
            "Sports          5\n",
            "dtype: int64\n",
            "\n",
            "\n",
            "일본 \n",
            " Genre\n",
            "Action          1\n",
            "Misc            1\n",
            "Platform        4\n",
            "Puzzle          2\n",
            "Racing          1\n",
            "Role-Playing    9\n",
            "Simulation      2\n",
            "dtype: int64\n"
          ],
          "name": "stdout"
        }
      ]
    },
    {
      "cell_type": "markdown",
      "metadata": {
        "id": "tF6Ut3-Gs2Qv"
      },
      "source": [
        "#### ✔️지역별 매출 TOP20"
      ]
    },
    {
      "cell_type": "code",
      "metadata": {
        "colab": {
          "base_uri": "https://localhost:8080/",
          "height": 264
        },
        "id": "ld0EEwNO_jKz",
        "outputId": "88493b2b-7bbd-4573-82d2-c600c3219558"
      },
      "source": [
        "value = [30,10,10,15,5,10,5,10,5]\n",
        "label = ['Platform','Misc','Action','Sports','Simulation','Shooter','Role','Racing','Puzzle']\n",
        "explode =[0.2,0.0,0.0,0.0,0.0,0.0,0.0,0.0,0.0]\n",
        "plt.pie(value,labels=label,autopct='%1.0f%%',explode=explode)\n",
        "plt.title('NA_Sales')\n",
        "plt.show()"
      ],
      "execution_count": 366,
      "outputs": [
        {
          "output_type": "display_data",
          "data": {
            "image/png": "[encoded data removed]",
            "text/plain": [
              "<Figure size 432x288 with 1 Axes>"
            ]
          },
          "metadata": {
            "tags": []
          }
        }
      ]
    },
    {
      "cell_type": "code",
      "metadata": {
        "colab": {
          "base_uri": "https://localhost:8080/",
          "height": 264
        },
        "id": "1Q9YdynICkQz",
        "outputId": "3d411ce5-e2d3-4046-e063-c8083c9a1cec"
      },
      "source": [
        "value = [10,10,10,25,10,10,15,10]\n",
        "label = ['Platform','Misc','Action','Sports','Simulation','Shooter','Role','Racing']\n",
        "explode =[0.0,0.0,0.0,0.2,0.0,0.0,0.0,0.0]\n",
        "plt.pie(value,labels=label,autopct='%1.0f%%',explode=explode)\n",
        "plt.title('EU_Sales')\n",
        "plt.show()"
      ],
      "execution_count": 367,
      "outputs": [
        {
          "output_type": "display_data",
          "data": {
            "image/png": "[encoded data removed]",
            "text/plain": [
              "<Figure size 432x288 with 1 Axes>"
            ]
          },
          "metadata": {
            "tags": []
          }
        }
      ]
    },
    {
      "cell_type": "code",
      "metadata": {
        "colab": {
          "base_uri": "https://localhost:8080/",
          "height": 264
        },
        "id": "nLGB1wF6DMaF",
        "outputId": "f9d3536b-2aab-4a30-93b7-9a5b10cbdb5f"
      },
      "source": [
        "value = [20,5,5,10,45,5,10]\n",
        "label = ['Platform','Misc','Action','Simulation','Role','Racing','Puzzle']\n",
        "explode =[0.0,0.0,0.0,0.0,0.2,0.0,0.0]\n",
        "plt.pie(value,labels=label,autopct='%1.0f%%',explode=explode)\n",
        "plt.title('JP_Sales')\n",
        "plt.show()"
      ],
      "execution_count": 368,
      "outputs": [
        {
          "output_type": "display_data",
          "data": {
            "image/png": "[encoded data removed]",
            "text/plain": [
              "<Figure size 432x288 with 1 Axes>"
            ]
          },
          "metadata": {
            "tags": []
          }
        }
      ]
    },
    {
      "cell_type": "markdown",
      "metadata": {
        "id": "GPJ95KzBZVAp"
      },
      "source": [
        "#📌연도별 게임의 트렌드가 있을까"
      ]
    },
    {
      "cell_type": "markdown",
      "metadata": {
        "id": "4zLWymtVw5sa"
      },
      "source": [
        "#### ."
      ]
    },
    {
      "cell_type": "code",
      "metadata": {
        "colab": {
          "base_uri": "https://localhost:8080/",
          "height": 419
        },
        "id": "7NQ4nAeBUo1F",
        "outputId": "cda947b7-d023-4f81-b59c-7ec13c7be6f0"
      },
      "source": [
        "df2 = df[['Year','Genre']]\n",
        "years = list(range(1980,2025,5)) #1980년부터 2025년까지 5단위로 데이터 생성\n",
        "years_label = [int(x) for x in years] #문자열함수로 years_label리스트 생성\n",
        "df2['years']= pd.cut(df2['Year'],years,right=False, labels=years_label[:-1])#칼럼 데이터 추가\n",
        "df2"
      ],
      "execution_count": 369,
      "outputs": [
        {
          "output_type": "execute_result",
          "data": {
            "text/html": [
              "<div>\n",
              "<style scoped>\n",
              "    .dataframe tbody tr th:only-of-type {\n",
              "        vertical-align: middle;\n",
              "    }\n",
              "\n",
              "    .dataframe tbody tr th {\n",
              "        vertical-align: top;\n",
              "    }\n",
              "\n",
              "    .dataframe thead th {\n",
              "        text-align: right;\n",
              "    }\n",
              "</style>\n",
              "<table border=\"1\" class=\"dataframe\">\n",
              "  <thead>\n",
              "    <tr style=\"text-align: right;\">\n",
              "      <th></th>\n",
              "      <th>Year</th>\n",
              "      <th>Genre</th>\n",
              "      <th>years</th>\n",
              "    </tr>\n",
              "  </thead>\n",
              "  <tbody>\n",
              "    <tr>\n",
              "      <th>1</th>\n",
              "      <td>2008.0</td>\n",
              "      <td>Action</td>\n",
              "      <td>2005</td>\n",
              "    </tr>\n",
              "    <tr>\n",
              "      <th>2</th>\n",
              "      <td>2009.0</td>\n",
              "      <td>Action</td>\n",
              "      <td>2005</td>\n",
              "    </tr>\n",
              "    <tr>\n",
              "      <th>3</th>\n",
              "      <td>2010.0</td>\n",
              "      <td>Adventure</td>\n",
              "      <td>2010</td>\n",
              "    </tr>\n",
              "    <tr>\n",
              "      <th>4</th>\n",
              "      <td>2010.0</td>\n",
              "      <td>Misc</td>\n",
              "      <td>2010</td>\n",
              "    </tr>\n",
              "    <tr>\n",
              "      <th>5</th>\n",
              "      <td>2010.0</td>\n",
              "      <td>Platform</td>\n",
              "      <td>2010</td>\n",
              "    </tr>\n",
              "    <tr>\n",
              "      <th>...</th>\n",
              "      <td>...</td>\n",
              "      <td>...</td>\n",
              "      <td>...</td>\n",
              "    </tr>\n",
              "    <tr>\n",
              "      <th>16594</th>\n",
              "      <td>2006.0</td>\n",
              "      <td>Platform</td>\n",
              "      <td>2005</td>\n",
              "    </tr>\n",
              "    <tr>\n",
              "      <th>16595</th>\n",
              "      <td>2005.0</td>\n",
              "      <td>Action</td>\n",
              "      <td>2005</td>\n",
              "    </tr>\n",
              "    <tr>\n",
              "      <th>16596</th>\n",
              "      <td>2015.0</td>\n",
              "      <td>Sports</td>\n",
              "      <td>2015</td>\n",
              "    </tr>\n",
              "    <tr>\n",
              "      <th>16597</th>\n",
              "      <td>2013.0</td>\n",
              "      <td>Action</td>\n",
              "      <td>2010</td>\n",
              "    </tr>\n",
              "    <tr>\n",
              "      <th>16598</th>\n",
              "      <td>1996.0</td>\n",
              "      <td>Fighting</td>\n",
              "      <td>1995</td>\n",
              "    </tr>\n",
              "  </tbody>\n",
              "</table>\n",
              "<p>16241 rows × 3 columns</p>\n",
              "</div>"
            ],
            "text/plain": [
              "         Year      Genre years\n",
              "1      2008.0     Action  2005\n",
              "2      2009.0     Action  2005\n",
              "3      2010.0  Adventure  2010\n",
              "4      2010.0       Misc  2010\n",
              "5      2010.0   Platform  2010\n",
              "...       ...        ...   ...\n",
              "16594  2006.0   Platform  2005\n",
              "16595  2005.0     Action  2005\n",
              "16596  2015.0     Sports  2015\n",
              "16597  2013.0     Action  2010\n",
              "16598  1996.0   Fighting  1995\n",
              "\n",
              "[16241 rows x 3 columns]"
            ]
          },
          "metadata": {
            "tags": []
          },
          "execution_count": 369
        }
      ]
    },
    {
      "cell_type": "code",
      "metadata": {
        "colab": {
          "base_uri": "https://localhost:8080/"
        },
        "id": "ddfWiZtEQDKh",
        "outputId": "8061750d-f071-4365-80f1-cf1b713c537e"
      },
      "source": [
        "df2.groupby(['years','Genre']).size()"
      ],
      "execution_count": 370,
      "outputs": [
        {
          "output_type": "execute_result",
          "data": {
            "text/plain": [
              "years  Genre       \n",
              "1980   Action           52\n",
              "       Adventure         1\n",
              "       Fighting          1\n",
              "       Misc              7\n",
              "       Platform         14\n",
              "                      ... \n",
              "2015   Role-Playing    120\n",
              "       Shooter          66\n",
              "       Simulation       24\n",
              "       Sports          100\n",
              "       Strategy         27\n",
              "Length: 96, dtype: int64"
            ]
          },
          "metadata": {
            "tags": []
          },
          "execution_count": 370
        }
      ]
    },
    {
      "cell_type": "code",
      "metadata": {
        "id": "r0txdE0KWOv9",
        "colab": {
          "base_uri": "https://localhost:8080/",
          "height": 142
        },
        "outputId": "a8d39a47-c35c-48f7-ebdb-2aa911daf409"
      },
      "source": [
        "df2_2=df2.groupby(['years','Genre']).size()\n",
        "df2_2=df2_2.reset_index()\n",
        "df2_2.columns=['years','Genre','sum']\n",
        "df2_2.head(3)"
      ],
      "execution_count": 371,
      "outputs": [
        {
          "output_type": "execute_result",
          "data": {
            "text/html": [
              "<div>\n",
              "<style scoped>\n",
              "    .dataframe tbody tr th:only-of-type {\n",
              "        vertical-align: middle;\n",
              "    }\n",
              "\n",
              "    .dataframe tbody tr th {\n",
              "        vertical-align: top;\n",
              "    }\n",
              "\n",
              "    .dataframe thead th {\n",
              "        text-align: right;\n",
              "    }\n",
              "</style>\n",
              "<table border=\"1\" class=\"dataframe\">\n",
              "  <thead>\n",
              "    <tr style=\"text-align: right;\">\n",
              "      <th></th>\n",
              "      <th>years</th>\n",
              "      <th>Genre</th>\n",
              "      <th>sum</th>\n",
              "    </tr>\n",
              "  </thead>\n",
              "  <tbody>\n",
              "    <tr>\n",
              "      <th>0</th>\n",
              "      <td>1980</td>\n",
              "      <td>Action</td>\n",
              "      <td>52</td>\n",
              "    </tr>\n",
              "    <tr>\n",
              "      <th>1</th>\n",
              "      <td>1980</td>\n",
              "      <td>Adventure</td>\n",
              "      <td>1</td>\n",
              "    </tr>\n",
              "    <tr>\n",
              "      <th>2</th>\n",
              "      <td>1980</td>\n",
              "      <td>Fighting</td>\n",
              "      <td>1</td>\n",
              "    </tr>\n",
              "  </tbody>\n",
              "</table>\n",
              "</div>"
            ],
            "text/plain": [
              "  years      Genre  sum\n",
              "0  1980     Action   52\n",
              "1  1980  Adventure    1\n",
              "2  1980   Fighting    1"
            ]
          },
          "metadata": {
            "tags": []
          },
          "execution_count": 371
        }
      ]
    },
    {
      "cell_type": "code",
      "metadata": {
        "id": "GGPzdSzkUufL"
      },
      "source": [
        "df2_2=df2_2.set_index('Genre')\n",
        "df1980=df2_2[df2_2['years'].isin([1980])]\n",
        "df1985=df2_2[df2_2['years'].isin([1985])]\n",
        "df1990=df2_2[df2_2['years'].isin([1990])]\n",
        "df1995=df2_2[df2_2['years'].isin([1995])]\n",
        "df2000=df2_2[df2_2['years'].isin([2000])]\n",
        "df2005=df2_2[df2_2['years'].isin([2005])]\n",
        "df2010=df2_2[df2_2['years'].isin([2010])]\n",
        "df2015=df2_2[df2_2['years'].isin([2015])]\n",
        "df2020=df2_2[df2_2['years'].isin([2020])]"
      ],
      "execution_count": 372,
      "outputs": []
    },
    {
      "cell_type": "code",
      "metadata": {
        "colab": {
          "base_uri": "https://localhost:8080/"
        },
        "id": "F0__Lpv7NDsg",
        "outputId": "cbec7a3c-b6d5-4675-f2c9-59210f60159c"
      },
      "source": [
        "df2015sum = df2015['sum'].sum()\n",
        "df2015.loc['Action','sum']/df2015sum*100"
      ],
      "execution_count": 373,
      "outputs": [
        {
          "output_type": "execute_result",
          "data": {
            "text/plain": [
              "38.912133891213394"
            ]
          },
          "metadata": {
            "tags": []
          },
          "execution_count": 373
        }
      ]
    },
    {
      "cell_type": "markdown",
      "metadata": {
        "id": "HwfHUx6wuv3o"
      },
      "source": [
        "#### ✔️구간별 종목 선호도"
      ]
    },
    {
      "cell_type": "code",
      "metadata": {
        "colab": {
          "base_uri": "https://localhost:8080/",
          "height": 1000
        },
        "id": "-e9a4xczS_rC",
        "outputId": "3473df74-f548-4c9c-fe4a-d9de3d7f2785"
      },
      "source": [
        "df1980.plot(kind ='bar',color='skyblue')\n",
        "plt.title('1980-1984')\n",
        "df1985.plot(kind ='bar',color='skyblue')\n",
        "plt.title('1985-1989')\n",
        "df1990.plot(kind ='bar',color='skyblue')\n",
        "plt.title('1990-1994')\n",
        "df1995.plot(kind ='bar',color='skyblue')\n",
        "plt.title('1995-1999')\n",
        "df2000.plot(kind ='bar',color='skyblue')\n",
        "plt.title('2000-2004')\n",
        "df2005.plot(kind ='bar',color='skyblue')\n",
        "plt.title('2005-2009')\n",
        "df2010.plot(kind ='bar',color='skyblue')\n",
        "plt.title('2010-2014')\n",
        "df2015.plot(kind ='bar',color='skyblue')\n",
        "plt.title('2015-2019')"
      ],
      "execution_count": 374,
      "outputs": [
        {
          "output_type": "execute_result",
          "data": {
            "text/plain": [
              "Text(0.5, 1.0, '2015-2019')"
            ]
          },
          "metadata": {
            "tags": []
          },
          "execution_count": 374
        },
        {
          "output_type": "display_data",
          "data": {
            "image/png": "[encoded data removed]",
            "text/plain": [
              "<Figure size 432x288 with 1 Axes>"
            ]
          },
          "metadata": {
            "tags": [],
            "needs_background": "light"
          }
        },
        {
          "output_type": "display_data",
          "data": {
            "image/png": "[encoded data removed]",
            "text/plain": [
              "<Figure size 432x288 with 1 Axes>"
            ]
          },
          "metadata": {
            "tags": [],
            "needs_background": "light"
          }
        },
        {
          "output_type": "display_data",
          "data": {
            "image/png": "[encoded data removed]",
            "text/plain": [
              "<Figure size 432x288 with 1 Axes>"
            ]
          },
          "metadata": {
            "tags": [],
            "needs_background": "light"
          }
        },
        {
          "output_type": "display_data",
          "data": {
            "image/png": "[encoded data removed]",
            "text/plain": [
              "<Figure size 432x288 with 1 Axes>"
            ]
          },
          "metadata": {
            "tags": [],
            "needs_background": "light"
          }
        },
        {
          "output_type": "display_data",
          "data": {
            "image/png": "[encoded data removed]",
            "text/plain": [
              "<Figure size 432x288 with 1 Axes>"
            ]
          },
          "metadata": {
            "tags": [],
            "needs_background": "light"
          }
        },
        {
          "output_type": "display_data",
          "data": {
            "image/png": "[encoded data removed]",
            "text/plain": [
              "<Figure size 432x288 with 1 Axes>"
            ]
          },
          "metadata": {
            "tags": [],
            "needs_background": "light"
          }
        },
        {
          "output_type": "display_data",
          "data": {
            "image/png": "[encoded data removed]",
            "text/plain": [
              "<Figure size 432x288 with 1 Axes>"
            ]
          },
          "metadata": {
            "tags": [],
            "needs_background": "light"
          }
        },
        {
          "output_type": "display_data",
          "data": {
            "image/png": "[encoded data removed]",
            "text/plain": [
              "<Figure size 432x288 with 1 Axes>"
            ]
          },
          "metadata": {
            "tags": [],
            "needs_background": "light"
          }
        }
      ]
    },
    {
      "cell_type": "markdown",
      "metadata": {
        "id": "O3GMszK4ZYnQ"
      },
      "source": [
        "#📌매출이 높았던 게임은 어떤 게임일까"
      ]
    },
    {
      "cell_type": "markdown",
      "metadata": {
        "id": "uks5uIw3xL-B"
      },
      "source": [
        "#### ."
      ]
    },
    {
      "cell_type": "code",
      "metadata": {
        "id": "m1EAdk5Xgh2g",
        "colab": {
          "base_uri": "https://localhost:8080/",
          "height": 419
        },
        "outputId": "fa69efbd-ed74-448c-f4da-319d2449de7b"
      },
      "source": [
        "#매출이 높은 게임에 대한 분석 및 시각화\n",
        "df3 = df[['Name','NA_Sales','EU_Sales','JP_Sales','Other_Sales']]\n",
        "df3"
      ],
      "execution_count": 375,
      "outputs": [
        {
          "output_type": "execute_result",
          "data": {
            "text/html": [
              "<div>\n",
              "<style scoped>\n",
              "    .dataframe tbody tr th:only-of-type {\n",
              "        vertical-align: middle;\n",
              "    }\n",
              "\n",
              "    .dataframe tbody tr th {\n",
              "        vertical-align: top;\n",
              "    }\n",
              "\n",
              "    .dataframe thead th {\n",
              "        text-align: right;\n",
              "    }\n",
              "</style>\n",
              "<table border=\"1\" class=\"dataframe\">\n",
              "  <thead>\n",
              "    <tr style=\"text-align: right;\">\n",
              "      <th></th>\n",
              "      <th>Name</th>\n",
              "      <th>NA_Sales</th>\n",
              "      <th>EU_Sales</th>\n",
              "      <th>JP_Sales</th>\n",
              "      <th>Other_Sales</th>\n",
              "    </tr>\n",
              "  </thead>\n",
              "  <tbody>\n",
              "    <tr>\n",
              "      <th>1</th>\n",
              "      <td>Candace Kane's Candy Factory</td>\n",
              "      <td>0.04</td>\n",
              "      <td>0.00</td>\n",
              "      <td>0.00</td>\n",
              "      <td>0.00</td>\n",
              "    </tr>\n",
              "    <tr>\n",
              "      <th>2</th>\n",
              "      <td>The Munchables</td>\n",
              "      <td>0.17</td>\n",
              "      <td>0.00</td>\n",
              "      <td>0.00</td>\n",
              "      <td>0.01</td>\n",
              "    </tr>\n",
              "    <tr>\n",
              "      <th>3</th>\n",
              "      <td>Otome wa Oanesama Boku ni Koi Shiteru Portable</td>\n",
              "      <td>0.00</td>\n",
              "      <td>0.00</td>\n",
              "      <td>0.02</td>\n",
              "      <td>0.00</td>\n",
              "    </tr>\n",
              "    <tr>\n",
              "      <th>4</th>\n",
              "      <td>Deal or No Deal: Special Edition</td>\n",
              "      <td>0.04</td>\n",
              "      <td>0.00</td>\n",
              "      <td>0.00</td>\n",
              "      <td>0.00</td>\n",
              "    </tr>\n",
              "    <tr>\n",
              "      <th>5</th>\n",
              "      <td>Ben 10 Ultimate Alien: Cosmic Destruction</td>\n",
              "      <td>0.12</td>\n",
              "      <td>0.09</td>\n",
              "      <td>0.00</td>\n",
              "      <td>0.04</td>\n",
              "    </tr>\n",
              "    <tr>\n",
              "      <th>...</th>\n",
              "      <td>...</td>\n",
              "      <td>...</td>\n",
              "      <td>...</td>\n",
              "      <td>...</td>\n",
              "      <td>...</td>\n",
              "    </tr>\n",
              "    <tr>\n",
              "      <th>16594</th>\n",
              "      <td>Ice Age 2: The Meltdown</td>\n",
              "      <td>0.15</td>\n",
              "      <td>0.04</td>\n",
              "      <td>0.00</td>\n",
              "      <td>0.01</td>\n",
              "    </tr>\n",
              "    <tr>\n",
              "      <th>16595</th>\n",
              "      <td>Rainbow Islands: Revolution</td>\n",
              "      <td>0.01</td>\n",
              "      <td>0.00</td>\n",
              "      <td>0.00</td>\n",
              "      <td>0.00</td>\n",
              "    </tr>\n",
              "    <tr>\n",
              "      <th>16596</th>\n",
              "      <td>NBA 2K16</td>\n",
              "      <td>0.44</td>\n",
              "      <td>0.19</td>\n",
              "      <td>0.03</td>\n",
              "      <td>0.13</td>\n",
              "    </tr>\n",
              "    <tr>\n",
              "      <th>16597</th>\n",
              "      <td>Toukiden: The Age of Demons</td>\n",
              "      <td>0.05</td>\n",
              "      <td>0.05</td>\n",
              "      <td>0.25</td>\n",
              "      <td>0.03</td>\n",
              "    </tr>\n",
              "    <tr>\n",
              "      <th>16598</th>\n",
              "      <td>The King of Fighters '95</td>\n",
              "      <td>0.00</td>\n",
              "      <td>0.00</td>\n",
              "      <td>0.16</td>\n",
              "      <td>0.01</td>\n",
              "    </tr>\n",
              "  </tbody>\n",
              "</table>\n",
              "<p>16241 rows × 5 columns</p>\n",
              "</div>"
            ],
            "text/plain": [
              "                                                 Name  ...  Other_Sales\n",
              "1                        Candace Kane's Candy Factory  ...         0.00\n",
              "2                                      The Munchables  ...         0.01\n",
              "3      Otome wa Oanesama Boku ni Koi Shiteru Portable  ...         0.00\n",
              "4                    Deal or No Deal: Special Edition  ...         0.00\n",
              "5           Ben 10 Ultimate Alien: Cosmic Destruction  ...         0.04\n",
              "...                                               ...  ...          ...\n",
              "16594                         Ice Age 2: The Meltdown  ...         0.01\n",
              "16595                     Rainbow Islands: Revolution  ...         0.00\n",
              "16596                                        NBA 2K16  ...         0.13\n",
              "16597                     Toukiden: The Age of Demons  ...         0.03\n",
              "16598                        The King of Fighters '95  ...         0.01\n",
              "\n",
              "[16241 rows x 5 columns]"
            ]
          },
          "metadata": {
            "tags": []
          },
          "execution_count": 375
        }
      ]
    },
    {
      "cell_type": "markdown",
      "metadata": {
        "id": "rKbT8QBZ2l9H"
      },
      "source": [
        "####✔️북미 매출 TOP5 게임"
      ]
    },
    {
      "cell_type": "code",
      "metadata": {
        "id": "65PPbxuOiueY",
        "colab": {
          "base_uri": "https://localhost:8080/",
          "height": 204
        },
        "outputId": "1d801dcb-3997-4c59-adff-434e0875f4d2"
      },
      "source": [
        "df3_1 = df[['Name','Genre','Year','NA_Sales']]\n",
        "df3_1 =df3_1.sort_values(by='NA_Sales',ascending=False)\n",
        "df3_1.head(5)"
      ],
      "execution_count": 376,
      "outputs": [
        {
          "output_type": "execute_result",
          "data": {
            "text/html": [
              "<div>\n",
              "<style scoped>\n",
              "    .dataframe tbody tr th:only-of-type {\n",
              "        vertical-align: middle;\n",
              "    }\n",
              "\n",
              "    .dataframe tbody tr th {\n",
              "        vertical-align: top;\n",
              "    }\n",
              "\n",
              "    .dataframe thead th {\n",
              "        text-align: right;\n",
              "    }\n",
              "</style>\n",
              "<table border=\"1\" class=\"dataframe\">\n",
              "  <thead>\n",
              "    <tr style=\"text-align: right;\">\n",
              "      <th></th>\n",
              "      <th>Name</th>\n",
              "      <th>Genre</th>\n",
              "      <th>Year</th>\n",
              "      <th>NA_Sales</th>\n",
              "    </tr>\n",
              "  </thead>\n",
              "  <tbody>\n",
              "    <tr>\n",
              "      <th>2909</th>\n",
              "      <td>Wii Sports</td>\n",
              "      <td>Sports</td>\n",
              "      <td>2006.0</td>\n",
              "      <td>41.49</td>\n",
              "    </tr>\n",
              "    <tr>\n",
              "      <th>4200</th>\n",
              "      <td>Super Mario Bros.</td>\n",
              "      <td>Platform</td>\n",
              "      <td>1985.0</td>\n",
              "      <td>29.08</td>\n",
              "    </tr>\n",
              "    <tr>\n",
              "      <th>10489</th>\n",
              "      <td>Duck Hunt</td>\n",
              "      <td>Shooter</td>\n",
              "      <td>1984.0</td>\n",
              "      <td>26.93</td>\n",
              "    </tr>\n",
              "    <tr>\n",
              "      <th>1204</th>\n",
              "      <td>Tetris</td>\n",
              "      <td>Puzzle</td>\n",
              "      <td>1989.0</td>\n",
              "      <td>23.20</td>\n",
              "    </tr>\n",
              "    <tr>\n",
              "      <th>12580</th>\n",
              "      <td>Mario Kart Wii</td>\n",
              "      <td>Racing</td>\n",
              "      <td>2008.0</td>\n",
              "      <td>15.85</td>\n",
              "    </tr>\n",
              "  </tbody>\n",
              "</table>\n",
              "</div>"
            ],
            "text/plain": [
              "                    Name     Genre    Year  NA_Sales\n",
              "2909          Wii Sports    Sports  2006.0     41.49\n",
              "4200   Super Mario Bros.  Platform  1985.0     29.08\n",
              "10489          Duck Hunt   Shooter  1984.0     26.93\n",
              "1204              Tetris    Puzzle  1989.0     23.20\n",
              "12580     Mario Kart Wii    Racing  2008.0     15.85"
            ]
          },
          "metadata": {
            "tags": []
          },
          "execution_count": 376
        }
      ]
    },
    {
      "cell_type": "markdown",
      "metadata": {
        "id": "VvMG-KEC2zSr"
      },
      "source": [
        "####✔️유럽 매출 TOP5 게임"
      ]
    },
    {
      "cell_type": "code",
      "metadata": {
        "colab": {
          "base_uri": "https://localhost:8080/",
          "height": 204
        },
        "id": "jja9FuwwPdWx",
        "outputId": "8eee1f59-3767-454c-c609-4a2f013e0d32"
      },
      "source": [
        "df3_2 = df[['Name','Genre','Year','EU_Sales']]\n",
        "df3_2 =df3_2.sort_values(by='EU_Sales',ascending=False)\n",
        "df3_2.head(5)"
      ],
      "execution_count": 377,
      "outputs": [
        {
          "output_type": "execute_result",
          "data": {
            "text/html": [
              "<div>\n",
              "<style scoped>\n",
              "    .dataframe tbody tr th:only-of-type {\n",
              "        vertical-align: middle;\n",
              "    }\n",
              "\n",
              "    .dataframe tbody tr th {\n",
              "        vertical-align: top;\n",
              "    }\n",
              "\n",
              "    .dataframe thead th {\n",
              "        text-align: right;\n",
              "    }\n",
              "</style>\n",
              "<table border=\"1\" class=\"dataframe\">\n",
              "  <thead>\n",
              "    <tr style=\"text-align: right;\">\n",
              "      <th></th>\n",
              "      <th>Name</th>\n",
              "      <th>Genre</th>\n",
              "      <th>Year</th>\n",
              "      <th>EU_Sales</th>\n",
              "    </tr>\n",
              "  </thead>\n",
              "  <tbody>\n",
              "    <tr>\n",
              "      <th>2909</th>\n",
              "      <td>Wii Sports</td>\n",
              "      <td>Sports</td>\n",
              "      <td>2006.0</td>\n",
              "      <td>29.02</td>\n",
              "    </tr>\n",
              "    <tr>\n",
              "      <th>12580</th>\n",
              "      <td>Mario Kart Wii</td>\n",
              "      <td>Racing</td>\n",
              "      <td>2008.0</td>\n",
              "      <td>12.88</td>\n",
              "    </tr>\n",
              "    <tr>\n",
              "      <th>3353</th>\n",
              "      <td>Wii Sports Resort</td>\n",
              "      <td>Sports</td>\n",
              "      <td>2009.0</td>\n",
              "      <td>11.01</td>\n",
              "    </tr>\n",
              "    <tr>\n",
              "      <th>11138</th>\n",
              "      <td>Nintendogs</td>\n",
              "      <td>Simulation</td>\n",
              "      <td>2005.0</td>\n",
              "      <td>11.00</td>\n",
              "    </tr>\n",
              "    <tr>\n",
              "      <th>3484</th>\n",
              "      <td>Grand Theft Auto V</td>\n",
              "      <td>Action</td>\n",
              "      <td>2013.0</td>\n",
              "      <td>9.27</td>\n",
              "    </tr>\n",
              "  </tbody>\n",
              "</table>\n",
              "</div>"
            ],
            "text/plain": [
              "                     Name       Genre    Year  EU_Sales\n",
              "2909           Wii Sports      Sports  2006.0     29.02\n",
              "12580      Mario Kart Wii      Racing  2008.0     12.88\n",
              "3353    Wii Sports Resort      Sports  2009.0     11.01\n",
              "11138          Nintendogs  Simulation  2005.0     11.00\n",
              "3484   Grand Theft Auto V      Action  2013.0      9.27"
            ]
          },
          "metadata": {
            "tags": []
          },
          "execution_count": 377
        }
      ]
    },
    {
      "cell_type": "markdown",
      "metadata": {
        "id": "iw76MFlk20aX"
      },
      "source": [
        "####✔️일본 매출 TOP5 게임"
      ]
    },
    {
      "cell_type": "code",
      "metadata": {
        "colab": {
          "base_uri": "https://localhost:8080/",
          "height": 204
        },
        "id": "uG_Q99thQDWp",
        "outputId": "35eae30f-437c-40b5-fa30-22738a417c1d"
      },
      "source": [
        "df3_3 = df[['Name','Genre','Year','JP_Sales']]\n",
        "df3_3 =df3_3.sort_values(by='JP_Sales',ascending=False)\n",
        "df3_3.head(5)"
      ],
      "execution_count": 378,
      "outputs": [
        {
          "output_type": "execute_result",
          "data": {
            "text/html": [
              "<div>\n",
              "<style scoped>\n",
              "    .dataframe tbody tr th:only-of-type {\n",
              "        vertical-align: middle;\n",
              "    }\n",
              "\n",
              "    .dataframe tbody tr th {\n",
              "        vertical-align: top;\n",
              "    }\n",
              "\n",
              "    .dataframe thead th {\n",
              "        text-align: right;\n",
              "    }\n",
              "</style>\n",
              "<table border=\"1\" class=\"dataframe\">\n",
              "  <thead>\n",
              "    <tr style=\"text-align: right;\">\n",
              "      <th></th>\n",
              "      <th>Name</th>\n",
              "      <th>Genre</th>\n",
              "      <th>Year</th>\n",
              "      <th>JP_Sales</th>\n",
              "    </tr>\n",
              "  </thead>\n",
              "  <tbody>\n",
              "    <tr>\n",
              "      <th>7830</th>\n",
              "      <td>Pokemon Red/Pokemon Blue</td>\n",
              "      <td>Role-Playing</td>\n",
              "      <td>1996.0</td>\n",
              "      <td>10.22</td>\n",
              "    </tr>\n",
              "    <tr>\n",
              "      <th>9417</th>\n",
              "      <td>Pokemon Gold/Pokemon Silver</td>\n",
              "      <td>Role-Playing</td>\n",
              "      <td>1999.0</td>\n",
              "      <td>7.20</td>\n",
              "    </tr>\n",
              "    <tr>\n",
              "      <th>4200</th>\n",
              "      <td>Super Mario Bros.</td>\n",
              "      <td>Platform</td>\n",
              "      <td>1985.0</td>\n",
              "      <td>6.81</td>\n",
              "    </tr>\n",
              "    <tr>\n",
              "      <th>6938</th>\n",
              "      <td>New Super Mario Bros.</td>\n",
              "      <td>Platform</td>\n",
              "      <td>2006.0</td>\n",
              "      <td>6.50</td>\n",
              "    </tr>\n",
              "    <tr>\n",
              "      <th>10556</th>\n",
              "      <td>Pokemon Diamond/Pokemon Pearl</td>\n",
              "      <td>Role-Playing</td>\n",
              "      <td>2006.0</td>\n",
              "      <td>6.04</td>\n",
              "    </tr>\n",
              "  </tbody>\n",
              "</table>\n",
              "</div>"
            ],
            "text/plain": [
              "                                Name         Genre    Year  JP_Sales\n",
              "7830        Pokemon Red/Pokemon Blue  Role-Playing  1996.0     10.22\n",
              "9417     Pokemon Gold/Pokemon Silver  Role-Playing  1999.0      7.20\n",
              "4200               Super Mario Bros.      Platform  1985.0      6.81\n",
              "6938           New Super Mario Bros.      Platform  2006.0      6.50\n",
              "10556  Pokemon Diamond/Pokemon Pearl  Role-Playing  2006.0      6.04"
            ]
          },
          "metadata": {
            "tags": []
          },
          "execution_count": 378
        }
      ]
    },
    {
      "cell_type": "markdown",
      "metadata": {
        "id": "xQrT2hHY21uL"
      },
      "source": [
        "####✔️그 외 지역 매출 TOP5 게임"
      ]
    },
    {
      "cell_type": "code",
      "metadata": {
        "colab": {
          "base_uri": "https://localhost:8080/",
          "height": 204
        },
        "id": "6WQcBroyQL-d",
        "outputId": "39915be6-c0aa-496d-f507-65455699165e"
      },
      "source": [
        "df3_4 = df[['Name','Genre','Year','Other_Sales']]\n",
        "df3_4 =df3_4.sort_values(by='Other_Sales',ascending=False)\n",
        "df3_4.head(5)"
      ],
      "execution_count": 379,
      "outputs": [
        {
          "output_type": "execute_result",
          "data": {
            "text/html": [
              "<div>\n",
              "<style scoped>\n",
              "    .dataframe tbody tr th:only-of-type {\n",
              "        vertical-align: middle;\n",
              "    }\n",
              "\n",
              "    .dataframe tbody tr th {\n",
              "        vertical-align: top;\n",
              "    }\n",
              "\n",
              "    .dataframe thead th {\n",
              "        text-align: right;\n",
              "    }\n",
              "</style>\n",
              "<table border=\"1\" class=\"dataframe\">\n",
              "  <thead>\n",
              "    <tr style=\"text-align: right;\">\n",
              "      <th></th>\n",
              "      <th>Name</th>\n",
              "      <th>Genre</th>\n",
              "      <th>Year</th>\n",
              "      <th>Other_Sales</th>\n",
              "    </tr>\n",
              "  </thead>\n",
              "  <tbody>\n",
              "    <tr>\n",
              "      <th>14670</th>\n",
              "      <td>Grand Theft Auto: San Andreas</td>\n",
              "      <td>Action</td>\n",
              "      <td>2004.0</td>\n",
              "      <td>10.57</td>\n",
              "    </tr>\n",
              "    <tr>\n",
              "      <th>2909</th>\n",
              "      <td>Wii Sports</td>\n",
              "      <td>Sports</td>\n",
              "      <td>2006.0</td>\n",
              "      <td>8.46</td>\n",
              "    </tr>\n",
              "    <tr>\n",
              "      <th>14666</th>\n",
              "      <td>Gran Turismo 4</td>\n",
              "      <td>Racing</td>\n",
              "      <td>2004.0</td>\n",
              "      <td>7.53</td>\n",
              "    </tr>\n",
              "    <tr>\n",
              "      <th>3484</th>\n",
              "      <td>Grand Theft Auto V</td>\n",
              "      <td>Action</td>\n",
              "      <td>2013.0</td>\n",
              "      <td>4.14</td>\n",
              "    </tr>\n",
              "    <tr>\n",
              "      <th>12580</th>\n",
              "      <td>Mario Kart Wii</td>\n",
              "      <td>Racing</td>\n",
              "      <td>2008.0</td>\n",
              "      <td>3.31</td>\n",
              "    </tr>\n",
              "  </tbody>\n",
              "</table>\n",
              "</div>"
            ],
            "text/plain": [
              "                                Name   Genre    Year  Other_Sales\n",
              "14670  Grand Theft Auto: San Andreas  Action  2004.0        10.57\n",
              "2909                      Wii Sports  Sports  2006.0         8.46\n",
              "14666                 Gran Turismo 4  Racing  2004.0         7.53\n",
              "3484              Grand Theft Auto V  Action  2013.0         4.14\n",
              "12580                 Mario Kart Wii  Racing  2008.0         3.31"
            ]
          },
          "metadata": {
            "tags": []
          },
          "execution_count": 379
        }
      ]
    },
    {
      "cell_type": "markdown",
      "metadata": {
        "id": "tlzhDUEM3GLv"
      },
      "source": [
        "####."
      ]
    },
    {
      "cell_type": "code",
      "metadata": {
        "colab": {
          "base_uri": "https://localhost:8080/",
          "height": 390
        },
        "id": "3CAQ3g1GRCY0",
        "outputId": "f6c956d6-338b-4e7f-963e-03f499411590"
      },
      "source": [
        "#매출의 합이 가장 큰 순서대로 정렬\n",
        "df4 = df[['Name','NA_Sales','EU_Sales','JP_Sales','Other_Sales']]\n",
        "df4 = df4.set_index('Name')\n",
        "\n",
        "def fun(col):\n",
        "    sum=0\n",
        "    for i in col:\n",
        "        sum += i\n",
        "    return sum\n",
        "\n",
        "df4 = df4.apply(fun,axis =1)\n",
        "df4=df4.reset_index()\n",
        "df4.columns=['Name','sum']\n",
        "df4 = df4.sort_values(by='sum',ascending=False)\n",
        "df4 = df4.head(10)\n",
        "df4 = df4.set_index('Name')\n",
        "df4"
      ],
      "execution_count": 380,
      "outputs": [
        {
          "output_type": "execute_result",
          "data": {
            "text/html": [
              "<div>\n",
              "<style scoped>\n",
              "    .dataframe tbody tr th:only-of-type {\n",
              "        vertical-align: middle;\n",
              "    }\n",
              "\n",
              "    .dataframe tbody tr th {\n",
              "        vertical-align: top;\n",
              "    }\n",
              "\n",
              "    .dataframe thead th {\n",
              "        text-align: right;\n",
              "    }\n",
              "</style>\n",
              "<table border=\"1\" class=\"dataframe\">\n",
              "  <thead>\n",
              "    <tr style=\"text-align: right;\">\n",
              "      <th></th>\n",
              "      <th>sum</th>\n",
              "    </tr>\n",
              "    <tr>\n",
              "      <th>Name</th>\n",
              "      <th></th>\n",
              "    </tr>\n",
              "  </thead>\n",
              "  <tbody>\n",
              "    <tr>\n",
              "      <th>Wii Sports</th>\n",
              "      <td>82.74</td>\n",
              "    </tr>\n",
              "    <tr>\n",
              "      <th>Super Mario Bros.</th>\n",
              "      <td>40.24</td>\n",
              "    </tr>\n",
              "    <tr>\n",
              "      <th>Mario Kart Wii</th>\n",
              "      <td>35.83</td>\n",
              "    </tr>\n",
              "    <tr>\n",
              "      <th>Wii Sports Resort</th>\n",
              "      <td>33.00</td>\n",
              "    </tr>\n",
              "    <tr>\n",
              "      <th>Pokemon Red/Pokemon Blue</th>\n",
              "      <td>31.38</td>\n",
              "    </tr>\n",
              "    <tr>\n",
              "      <th>Tetris</th>\n",
              "      <td>30.26</td>\n",
              "    </tr>\n",
              "    <tr>\n",
              "      <th>New Super Mario Bros.</th>\n",
              "      <td>30.01</td>\n",
              "    </tr>\n",
              "    <tr>\n",
              "      <th>Wii Play</th>\n",
              "      <td>29.01</td>\n",
              "    </tr>\n",
              "    <tr>\n",
              "      <th>New Super Mario Bros. Wii</th>\n",
              "      <td>28.61</td>\n",
              "    </tr>\n",
              "    <tr>\n",
              "      <th>Duck Hunt</th>\n",
              "      <td>28.31</td>\n",
              "    </tr>\n",
              "  </tbody>\n",
              "</table>\n",
              "</div>"
            ],
            "text/plain": [
              "                             sum\n",
              "Name                            \n",
              "Wii Sports                 82.74\n",
              "Super Mario Bros.          40.24\n",
              "Mario Kart Wii             35.83\n",
              "Wii Sports Resort          33.00\n",
              "Pokemon Red/Pokemon Blue   31.38\n",
              "Tetris                     30.26\n",
              "New Super Mario Bros.      30.01\n",
              "Wii Play                   29.01\n",
              "New Super Mario Bros. Wii  28.61\n",
              "Duck Hunt                  28.31"
            ]
          },
          "metadata": {
            "tags": []
          },
          "execution_count": 380
        }
      ]
    },
    {
      "cell_type": "markdown",
      "metadata": {
        "id": "2sxi8VQMvKxx"
      },
      "source": [
        "####✔️모든 지역 매출의 총합이 가장 큰 게임은\n",
        "#🎮Wii Sports🎮"
      ]
    },
    {
      "cell_type": "code",
      "metadata": {
        "colab": {
          "base_uri": "https://localhost:8080/",
          "height": 282
        },
        "id": "DvUdCKWmTmPX",
        "outputId": "e28bbc82-881a-42f6-d488-1c4a88d5cae6"
      },
      "source": [
        "df4.plot(kind ='barh',color='green')"
      ],
      "execution_count": 381,
      "outputs": [
        {
          "output_type": "execute_result",
          "data": {
            "text/plain": [
              "<matplotlib.axes._subplots.AxesSubplot at 0x7fec8a58e160>"
            ]
          },
          "metadata": {
            "tags": []
          },
          "execution_count": 381
        },
        {
          "output_type": "display_data",
          "data": {
            "image/png": "[encoded data removed]",
            "text/plain": [
              "<Figure size 432x288 with 1 Axes>"
            ]
          },
          "metadata": {
            "tags": [],
            "needs_background": "light"
          }
        }
      ]
    },
    {
      "cell_type": "markdown",
      "metadata": {
        "id": "zMTrbO6Hv4gs"
      },
      "source": [
        "#### ."
      ]
    },
    {
      "cell_type": "code",
      "metadata": {
        "colab": {
          "base_uri": "https://localhost:8080/"
        },
        "id": "KsaSI7RFWaYH",
        "outputId": "ca2d0c8b-8c3f-429b-a81a-74499a11a370"
      },
      "source": [
        "#Wii Sports 정보찾기\n",
        "df_wii = df.loc[2909]\n",
        "dfwii_sales = df_wii[['NA_Sales','EU_Sales','JP_Sales','Other_Sales']]\n",
        "df_wii"
      ],
      "execution_count": 382,
      "outputs": [
        {
          "output_type": "execute_result",
          "data": {
            "text/plain": [
              "Name           Wii Sports\n",
              "Platform              Wii\n",
              "Year                 2006\n",
              "Genre              Sports\n",
              "Publisher        Nintendo\n",
              "NA_Sales            41.49\n",
              "EU_Sales            29.02\n",
              "JP_Sales             3.77\n",
              "Other_Sales          8.46\n",
              "Name: 2909, dtype: object"
            ]
          },
          "metadata": {
            "tags": []
          },
          "execution_count": 382
        }
      ]
    },
    {
      "cell_type": "markdown",
      "metadata": {
        "id": "Lfm8IjMNvu5o"
      },
      "source": [
        "####✔️Wii Sports는 어느 지역에서 가장 많이 팔렸을까"
      ]
    },
    {
      "cell_type": "code",
      "metadata": {
        "colab": {
          "base_uri": "https://localhost:8080/",
          "height": 265
        },
        "id": "C15lTAWFYVmr",
        "outputId": "4c9c5747-e3b4-48de-da5e-6c710368fa2d"
      },
      "source": [
        "dfwii_sales.plot(kind='pie',autopct='%1.1f%%')"
      ],
      "execution_count": 383,
      "outputs": [
        {
          "output_type": "execute_result",
          "data": {
            "text/plain": [
              "<matplotlib.axes._subplots.AxesSubplot at 0x7fec8a5e68d0>"
            ]
          },
          "metadata": {
            "tags": []
          },
          "execution_count": 383
        },
        {
          "output_type": "display_data",
          "data": {
            "image/png": "[encoded data removed]",
            "text/plain": [
              "<Figure size 432x288 with 1 Axes>"
            ]
          },
          "metadata": {
            "tags": []
          }
        }
      ]
    }
  ]
}